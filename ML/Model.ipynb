{
 "cells": [
  {
   "cell_type": "markdown",
   "metadata": {
    "collapsed": false,
    "pycharm": {
     "name": "#%% md\n"
    }
   },
   "source": [
    "# Model notebook for trail prediction\n"
   ]
  },
  {
   "cell_type": "markdown",
   "metadata": {
    "collapsed": false,
    "pycharm": {
     "name": "#%% md\n"
    }
   },
   "source": [
    "# Trails to Avoid when weather is bad:\n",
    "\n",
    "Sweet Connie Trail #77\n",
    "Cottonwood Creek Trail #27\n",
    "Old Pen Trail #15A\n",
    "Table Rock Trail #15\n",
    "Polecat Loop #81\n",
    "Big Springs Loop #113\n",
    "Ridgecrest #20\n",
    "Bucktail Trail #20A\n",
    "Central Ridge Spur #22A (north)\n",
    "Central Ridge Spur #22A (south)\n",
    "Red Cliffs #39"
   ]
  },
  {
   "cell_type": "markdown",
   "metadata": {
    "collapsed": false,
    "pycharm": {
     "name": "#%% md\n"
    }
   },
   "source": [
    "# Alternative trails when  muddy:\n",
    "\n",
    "Rocky Canyon Road\n",
    "Mountain Cove Road\n",
    "Upper 8th Street Road\n",
    "The Boise Greenbelt\n",
    "Boise City Parks\n",
    "Wilson Creek Trails (south of Nampa)"
   ]
  },
  {
   "cell_type": "markdown",
   "metadata": {
    "collapsed": false,
    "pycharm": {
     "name": "#%% md\n"
    }
   },
   "source": [
    "# All-Weather Trails - Good under almost every weather condition:\n",
    "\n",
    "Shoshone-Bannock Tribes Trail #19A\n",
    "Rim Trail\n",
    "Harrison Hollow Trail #57\n",
    "Oregon Trail\n",
    "Upper Portion of Basalt Trail\n",
    "Red Fox Trail #36\n",
    "Gold Finch #35\n",
    "Owl's Roost #37\n",
    "Hulls Pond Loop #34\n",
    "The Grove #38\n",
    "Red-Winged Blackbird #35A\n",
    "Mountain Cove #22C\n",
    "Eagle Ridge Loop #25A"
   ]
  },
  {
   "cell_type": "markdown",
   "metadata": {
    "collapsed": false,
    "pycharm": {
     "name": "#%% md\n"
    }
   },
   "source": [
    "# Good bets (due to sandier soils) when conditions are marginal:\n",
    "\n",
    "Dry Creek Trail #78\n",
    "Lower Hulls Gulch Trail #29\n",
    "Camel's Back Trails #40\n",
    "Toll Road #27A\n",
    "Freestone Ridge #5"
   ]
  },
  {
   "cell_type": "code",
   "execution_count": 16,
   "metadata": {
    "collapsed": false,
    "pycharm": {
     "name": "#%%\n"
    }
   },
   "outputs": [],
   "source": [
    "import numpy as np\n",
    "import pandas as pd\n",
    "import seaborn as sns\n",
    "from sklearn.tree import DecisionTreeClassifier\n",
    "from sklearn.linear_model import LinearRegression\n",
    "from sklearn.ensemble import RandomForestClassifier\n",
    "from sklearn.metrics import accuracy_score\n",
    "from sklearn.pipeline import Pipeline\n",
    "from sklearn.preprocessing import PolynomialFeatures, StandardScaler\n",
    "from sklearn.model_selection import train_test_split\n",
    "from sklearn.preprocessing import OneHotEncoder\n",
    "from sklearn.compose import ColumnTransformer\n",
    "import joblib"
   ]
  },
  {
   "cell_type": "code",
   "execution_count": 17,
   "metadata": {
    "collapsed": false,
    "pycharm": {
     "name": "#%%\n"
    }
   },
   "outputs": [],
   "source": [
    "# df = pd.read_csv(\"historical_weather.csv\")\n",
    "#used to read the data set\n",
    "df = pd.read_csv('closure_data.csv')\n"
   ]
  },
  {
   "cell_type": "code",
   "execution_count": 18,
   "metadata": {
    "collapsed": false,
    "pycharm": {
     "name": "#%%\n"
    }
   },
   "outputs": [
    {
     "data": {
      "text/html": [
       "<div>\n",
       "<style scoped>\n",
       "    .dataframe tbody tr th:only-of-type {\n",
       "        vertical-align: middle;\n",
       "    }\n",
       "\n",
       "    .dataframe tbody tr th {\n",
       "        vertical-align: top;\n",
       "    }\n",
       "\n",
       "    .dataframe thead th {\n",
       "        text-align: right;\n",
       "    }\n",
       "</style>\n",
       "<table border=\"1\" class=\"dataframe\">\n",
       "  <thead>\n",
       "    <tr style=\"text-align: right;\">\n",
       "      <th></th>\n",
       "      <th>Date</th>\n",
       "      <th>Max Temperature (F)</th>\n",
       "      <th>Min Temperature (F)</th>\n",
       "      <th>Precipitation (mm)</th>\n",
       "      <th>Avoid</th>\n",
       "      <th>Alternatives</th>\n",
       "      <th>All Weather</th>\n",
       "      <th>Good Bets</th>\n",
       "    </tr>\n",
       "  </thead>\n",
       "  <tbody>\n",
       "    <tr>\n",
       "      <th>0</th>\n",
       "      <td>11/15/2023</td>\n",
       "      <td>67</td>\n",
       "      <td>41</td>\n",
       "      <td>0.0</td>\n",
       "      <td>0</td>\n",
       "      <td>0</td>\n",
       "      <td>0</td>\n",
       "      <td>0</td>\n",
       "    </tr>\n",
       "    <tr>\n",
       "      <th>1</th>\n",
       "      <td>11/14/2023</td>\n",
       "      <td>61</td>\n",
       "      <td>37</td>\n",
       "      <td>0.0</td>\n",
       "      <td>0</td>\n",
       "      <td>0</td>\n",
       "      <td>0</td>\n",
       "      <td>0</td>\n",
       "    </tr>\n",
       "    <tr>\n",
       "      <th>2</th>\n",
       "      <td>11/13/2023</td>\n",
       "      <td>63</td>\n",
       "      <td>39</td>\n",
       "      <td>0.0</td>\n",
       "      <td>0</td>\n",
       "      <td>0</td>\n",
       "      <td>0</td>\n",
       "      <td>0</td>\n",
       "    </tr>\n",
       "    <tr>\n",
       "      <th>3</th>\n",
       "      <td>11/12/2023</td>\n",
       "      <td>66</td>\n",
       "      <td>40</td>\n",
       "      <td>0.0</td>\n",
       "      <td>0</td>\n",
       "      <td>0</td>\n",
       "      <td>0</td>\n",
       "      <td>0</td>\n",
       "    </tr>\n",
       "    <tr>\n",
       "      <th>4</th>\n",
       "      <td>11/11/2023</td>\n",
       "      <td>59</td>\n",
       "      <td>41</td>\n",
       "      <td>0.0</td>\n",
       "      <td>0</td>\n",
       "      <td>0</td>\n",
       "      <td>0</td>\n",
       "      <td>0</td>\n",
       "    </tr>\n",
       "  </tbody>\n",
       "</table>\n",
       "</div>"
      ],
      "text/plain": [
       "         Date  Max Temperature (F)  Min Temperature (F)  Precipitation (mm)  \\\n",
       "0  11/15/2023                   67                   41                 0.0   \n",
       "1  11/14/2023                   61                   37                 0.0   \n",
       "2  11/13/2023                   63                   39                 0.0   \n",
       "3  11/12/2023                   66                   40                 0.0   \n",
       "4  11/11/2023                   59                   41                 0.0   \n",
       "\n",
       "   Avoid  Alternatives  All Weather  Good Bets  \n",
       "0      0             0            0          0  \n",
       "1      0             0            0          0  \n",
       "2      0             0            0          0  \n",
       "3      0             0            0          0  \n",
       "4      0             0            0          0  "
      ]
     },
     "execution_count": 18,
     "metadata": {},
     "output_type": "execute_result"
    }
   ],
   "source": [
    "df.head()"
   ]
  },
  {
   "cell_type": "code",
   "execution_count": 19,
   "metadata": {
    "collapsed": false,
    "pycharm": {
     "name": "#%%\n"
    }
   },
   "outputs": [
    {
     "data": {
      "text/html": [
       "<div>\n",
       "<style scoped>\n",
       "    .dataframe tbody tr th:only-of-type {\n",
       "        vertical-align: middle;\n",
       "    }\n",
       "\n",
       "    .dataframe tbody tr th {\n",
       "        vertical-align: top;\n",
       "    }\n",
       "\n",
       "    .dataframe thead th {\n",
       "        text-align: right;\n",
       "    }\n",
       "</style>\n",
       "<table border=\"1\" class=\"dataframe\">\n",
       "  <thead>\n",
       "    <tr style=\"text-align: right;\">\n",
       "      <th></th>\n",
       "      <th>Max Temperature (F)</th>\n",
       "      <th>Min Temperature (F)</th>\n",
       "      <th>Precipitation (mm)</th>\n",
       "      <th>Avoid</th>\n",
       "      <th>Alternatives</th>\n",
       "      <th>All Weather</th>\n",
       "      <th>Good Bets</th>\n",
       "    </tr>\n",
       "  </thead>\n",
       "  <tbody>\n",
       "    <tr>\n",
       "      <th>count</th>\n",
       "      <td>745.000000</td>\n",
       "      <td>745.000000</td>\n",
       "      <td>745.000000</td>\n",
       "      <td>745.000000</td>\n",
       "      <td>745.0</td>\n",
       "      <td>745.000000</td>\n",
       "      <td>745.000000</td>\n",
       "    </tr>\n",
       "    <tr>\n",
       "      <th>mean</th>\n",
       "      <td>64.774497</td>\n",
       "      <td>42.319463</td>\n",
       "      <td>0.034913</td>\n",
       "      <td>0.514094</td>\n",
       "      <td>0.0</td>\n",
       "      <td>0.068456</td>\n",
       "      <td>0.195973</td>\n",
       "    </tr>\n",
       "    <tr>\n",
       "      <th>std</th>\n",
       "      <td>21.972004</td>\n",
       "      <td>16.212466</td>\n",
       "      <td>0.110646</td>\n",
       "      <td>0.500137</td>\n",
       "      <td>0.0</td>\n",
       "      <td>0.252697</td>\n",
       "      <td>0.397215</td>\n",
       "    </tr>\n",
       "    <tr>\n",
       "      <th>min</th>\n",
       "      <td>18.000000</td>\n",
       "      <td>-3.000000</td>\n",
       "      <td>0.000000</td>\n",
       "      <td>0.000000</td>\n",
       "      <td>0.0</td>\n",
       "      <td>0.000000</td>\n",
       "      <td>0.000000</td>\n",
       "    </tr>\n",
       "    <tr>\n",
       "      <th>25%</th>\n",
       "      <td>47.000000</td>\n",
       "      <td>29.000000</td>\n",
       "      <td>0.000000</td>\n",
       "      <td>0.000000</td>\n",
       "      <td>0.0</td>\n",
       "      <td>0.000000</td>\n",
       "      <td>0.000000</td>\n",
       "    </tr>\n",
       "    <tr>\n",
       "      <th>50%</th>\n",
       "      <td>63.000000</td>\n",
       "      <td>41.000000</td>\n",
       "      <td>0.000000</td>\n",
       "      <td>1.000000</td>\n",
       "      <td>0.0</td>\n",
       "      <td>0.000000</td>\n",
       "      <td>0.000000</td>\n",
       "    </tr>\n",
       "    <tr>\n",
       "      <th>75%</th>\n",
       "      <td>84.000000</td>\n",
       "      <td>56.000000</td>\n",
       "      <td>0.010000</td>\n",
       "      <td>1.000000</td>\n",
       "      <td>0.0</td>\n",
       "      <td>0.000000</td>\n",
       "      <td>0.000000</td>\n",
       "    </tr>\n",
       "    <tr>\n",
       "      <th>max</th>\n",
       "      <td>106.000000</td>\n",
       "      <td>78.000000</td>\n",
       "      <td>1.460000</td>\n",
       "      <td>1.000000</td>\n",
       "      <td>0.0</td>\n",
       "      <td>1.000000</td>\n",
       "      <td>1.000000</td>\n",
       "    </tr>\n",
       "  </tbody>\n",
       "</table>\n",
       "</div>"
      ],
      "text/plain": [
       "       Max Temperature (F)  Min Temperature (F)  Precipitation (mm)  \\\n",
       "count           745.000000           745.000000          745.000000   \n",
       "mean             64.774497            42.319463            0.034913   \n",
       "std              21.972004            16.212466            0.110646   \n",
       "min              18.000000            -3.000000            0.000000   \n",
       "25%              47.000000            29.000000            0.000000   \n",
       "50%              63.000000            41.000000            0.000000   \n",
       "75%              84.000000            56.000000            0.010000   \n",
       "max             106.000000            78.000000            1.460000   \n",
       "\n",
       "            Avoid  Alternatives  All Weather   Good Bets  \n",
       "count  745.000000         745.0   745.000000  745.000000  \n",
       "mean     0.514094           0.0     0.068456    0.195973  \n",
       "std      0.500137           0.0     0.252697    0.397215  \n",
       "min      0.000000           0.0     0.000000    0.000000  \n",
       "25%      0.000000           0.0     0.000000    0.000000  \n",
       "50%      1.000000           0.0     0.000000    0.000000  \n",
       "75%      1.000000           0.0     0.000000    0.000000  \n",
       "max      1.000000           0.0     1.000000    1.000000  "
      ]
     },
     "execution_count": 19,
     "metadata": {},
     "output_type": "execute_result"
    }
   ],
   "source": [
    "df.describe()"
   ]
  },
  {
   "cell_type": "code",
   "execution_count": 20,
   "metadata": {
    "collapsed": false,
    "pycharm": {
     "name": "#%%\n"
    }
   },
   "outputs": [],
   "source": [
    "# Convert 'Date' column to datetime and extract features\n",
    "df['Date'] = pd.to_datetime(df['Date'])\n",
    "df['Year'] = df['Date'].dt.year\n",
    "df['Month'] = df['Date'].dt.month\n",
    "df['Day'] = df['Date'].dt.day"
   ]
  },
  {
   "cell_type": "code",
   "execution_count": 21,
   "metadata": {
    "collapsed": false,
    "pycharm": {
     "name": "#%%\n"
    }
   },
   "outputs": [],
   "source": [
    "df['Alternatives'] = df['Alternatives'].replace('Caution', 1).astype(int)"
   ]
  },
  {
   "cell_type": "code",
   "execution_count": 22,
   "metadata": {
    "collapsed": false,
    "pycharm": {
     "name": "#%%\n"
    }
   },
   "outputs": [],
   "source": [
    "# # function to fill in trail conditions for the new column.  values are examples\n",
    "# def fill_trail_condition(row):\n",
    "#     if row['Max Temperature (F)'] > 70 and row['Precipitation (mm)'] < 0.035581:\n",
    "#         return 'Good'\n",
    "#     elif 50 <= row['Max Temperature (F)'] <= 70 or 0.035581 <= row['Precipitation (mm)'] < 0.1:\n",
    "#         return 'Moderate'\n",
    "#     else:\n",
    "#         return 'Poor'\n",
    "#\n",
    "# # Apply the function to each row\n",
    "# df['Trail_Condition'] = df.apply(fill_trail_condition, axis=1)"
   ]
  },
  {
   "cell_type": "markdown",
   "metadata": {
    "collapsed": false,
    "pycharm": {
     "name": "#%% md\n"
    }
   },
   "source": [
    "# 2. Model Training"
   ]
  },
  {
   "cell_type": "code",
   "execution_count": 23,
   "metadata": {
    "collapsed": false,
    "pycharm": {
     "name": "#%%\n"
    }
   },
   "outputs": [],
   "source": [
    "# X = df.drop('Trail_Condition', axis=1)\n",
    "# y = df['Trail_Condition']\n",
    "X = df[['Year', 'Month', 'Day', 'Max Temperature (F)', 'Min Temperature (F)', 'Precipitation (mm)']]\n",
    "y = df[['Avoid', 'Alternatives', 'All Weather', 'Good Bets']]"
   ]
  },
  {
   "cell_type": "code",
   "execution_count": 24,
   "metadata": {
    "collapsed": false,
    "pycharm": {
     "name": "#%%\n"
    }
   },
   "outputs": [],
   "source": [
    "X_train, X_test, y_train, y_test = train_test_split(X, y, train_size=0.2, random_state=42)"
   ]
  },
  {
   "cell_type": "code",
   "execution_count": 25,
   "metadata": {
    "collapsed": false,
    "pycharm": {
     "name": "#%%\n"
    }
   },
   "outputs": [],
   "source": [
    "scaler = StandardScaler()\n",
    "# categorical_transformer = OneHotEncoder(handle_unknown='ignore')"
   ]
  },
  {
   "cell_type": "code",
   "execution_count": 26,
   "metadata": {
    "collapsed": false,
    "pycharm": {
     "name": "#%%\n"
    }
   },
   "outputs": [],
   "source": [
    "# # preprocessor for numerical and categorical\n",
    "# preprocessor = ColumnTransformer(\n",
    "#     transformers=[\n",
    "#         ('num', numerical_transformer, numerical_cols),\n",
    "#         ('cat', categorical_transformer, categorical_cols)\n",
    "#     ])"
   ]
  },
  {
   "cell_type": "code",
   "execution_count": 27,
   "metadata": {
    "collapsed": false,
    "pycharm": {
     "name": "#%%\n"
    }
   },
   "outputs": [
    {
     "data": {
      "text/plain": [
       "Pipeline(steps=[('scaler', StandardScaler()),\n",
       "                ('rf',\n",
       "                 RandomForestClassifier(max_features='sqrt',\n",
       "                                        min_samples_split=3,\n",
       "                                        random_state=42))])"
      ]
     },
     "execution_count": 27,
     "metadata": {},
     "output_type": "execute_result"
    }
   ],
   "source": [
    "# pipeline = Pipeline(steps=[('preprocessor', preprocessor),\n",
    "#                            ('classifier', RandomForestClassifier())])\n",
    "pipeline = Pipeline([\n",
    "    ('scaler', StandardScaler()),\n",
    "    ('rf', RandomForestClassifier(random_state=42,n_estimators=100,min_samples_split=3,bootstrap=True,max_features='sqrt',min_samples_leaf=1))\n",
    "])\n",
    "\n",
    "# Training the pipeline\n",
    "pipeline.fit(X_train, y_train)"
   ]
  },
  {
   "cell_type": "code",
   "execution_count": 28,
   "metadata": {
    "collapsed": false,
    "pycharm": {
     "name": "#%%\n"
    }
   },
   "outputs": [
    {
     "data": {
      "text/plain": [
       "array([[1, 0, 0, 1]])"
      ]
     },
     "execution_count": 28,
     "metadata": {},
     "output_type": "execute_result"
    }
   ],
   "source": [
    "data = {\n",
    "    'Year': '2023',\n",
    "    'Month' : '01',\n",
    "    'Day' : '01',\n",
    "    'Max Temperature (F)': 50,\n",
    "    'Min Temperature (F)': 40,\n",
    "    'Precipitation (mm)': 1.0\n",
    "}\n",
    "df2 = pd.DataFrame([data])\n",
    "test_predict = pipeline.predict(df2)\n",
    "test_predict"
   ]
  },
  {
   "cell_type": "markdown",
   "metadata": {
    "collapsed": false,
    "pycharm": {
     "name": "#%% md\n"
    }
   },
   "source": [
    "# 3. Evaluation & Deployment"
   ]
  },
  {
   "cell_type": "code",
   "execution_count": 29,
   "metadata": {
    "collapsed": false,
    "pycharm": {
     "name": "#%%\n"
    }
   },
   "outputs": [
    {
     "name": "stdout",
     "output_type": "stream",
     "text": [
      "Model accuracy: 0.6879194630872483\n"
     ]
    }
   ],
   "source": [
    "# Predicting and evaluating the model\n",
    "y_pred = pipeline.predict(X_test)\n",
    "accuracy = accuracy_score(y_test, y_pred)\n",
    "print(f\"Model accuracy: {accuracy}\")"
   ]
  },
  {
   "cell_type": "code",
   "execution_count": 30,
   "metadata": {
    "collapsed": false,
    "pycharm": {
     "name": "#%%\n"
    }
   },
   "outputs": [
    {
     "data": {
      "text/plain": [
       "['pipelineFINAL.joblib']"
      ]
     },
     "execution_count": 30,
     "metadata": {},
     "output_type": "execute_result"
    }
   ],
   "source": [
    "joblib.dump(pipeline, 'pipelineFINAL.joblib')"
   ]
  },
  {
   "cell_type": "code",
   "execution_count": null,
   "metadata": {
    "collapsed": false,
    "pycharm": {
     "name": "#%%\n"
    }
   },
   "outputs": [],
   "source": []
  }
 ],
 "metadata": {
  "kernelspec": {
   "display_name": "Python 3",
   "language": "python",
   "name": "python3"
  },
  "language_info": {
   "codemirror_mode": {
    "name": "ipython",
    "version": 2
   },
   "file_extension": ".py",
   "mimetype": "text/x-python",
   "name": "python",
   "nbconvert_exporter": "python",
   "pygments_lexer": "ipython2",
   "version": "3.9.6"
  }
 },
 "nbformat": 4,
 "nbformat_minor": 0
}
